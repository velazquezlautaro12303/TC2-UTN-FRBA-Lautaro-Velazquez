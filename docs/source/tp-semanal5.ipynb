{
 "cells": [
  {
   "cell_type": "markdown",
   "metadata": {},
   "source": [
    "#### TP Semanal 5"
   ]
  },
  {
   "cell_type": "code",
   "execution_count": 7,
   "metadata": {},
   "outputs": [
    {
     "ename": "SyntaxError",
     "evalue": "invalid syntax (3470105146.py, line 27)",
     "output_type": "error",
     "traceback": [
      "\u001b[0;36m  Cell \u001b[0;32mIn[7], line 27\u001b[0;36m\u001b[0m\n\u001b[0;31m    analyze_sys(sistemas, \"n=\".*[\"1\",\"2\",\"3\",\"4\"])\u001b[0m\n\u001b[0m                               ^\u001b[0m\n\u001b[0;31mSyntaxError\u001b[0m\u001b[0;31m:\u001b[0m invalid syntax\n"
     ]
    }
   ],
   "source": [
    "import numpy as np\n",
    "import scipy.signal as signal\n",
    "import matplotlib.pyplot as plt\n",
    "from pytc2.sistemas_lineales import analyze_sys\n",
    "import matplotlib\n",
    "\n",
    "matplotlib.use('Qt5Agg')\n",
    "plt.close('all')\n",
    "\n",
    "sistemas = []\n",
    "\n",
    "for i in [1,2,3,4]:\n",
    "        \n",
    "    # Definir el orden del filtro y la frecuencia de corte\n",
    "    orden = i\n",
    "    frecuencia_corte = 1.0  # En radianes/segundo\n",
    "\n",
    "    # Diseñar el filtro Bessel\n",
    "    b, a = signal.bessel(orden, frecuencia_corte, analog=True)\n",
    "\n",
    "    # Crear una función de transferencia\n",
    "    sistema = signal.TransferFunction(b, a)\n",
    "\n",
    "    sistemas.append(sistema)\n",
    "\n",
    "# Graficar la respuesta en frecuencia\n",
    "analyze_sys(sistemas, [\"n=1\",\"n=2\",\"n=3\",\"n=4\"])\n",
    "\n",
    "plt.show()\n"
   ]
  }
 ],
 "metadata": {
  "kernelspec": {
   "display_name": "Python 3",
   "language": "python",
   "name": "python3"
  },
  "language_info": {
   "codemirror_mode": {
    "name": "ipython",
    "version": 3
   },
   "file_extension": ".py",
   "mimetype": "text/x-python",
   "name": "python",
   "nbconvert_exporter": "python",
   "pygments_lexer": "ipython3",
   "version": "3.8.10"
  }
 },
 "nbformat": 4,
 "nbformat_minor": 2
}
